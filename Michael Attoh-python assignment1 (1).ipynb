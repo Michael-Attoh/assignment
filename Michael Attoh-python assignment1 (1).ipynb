{
 "cells": [
  {
   "cell_type": "code",
   "execution_count": null,
   "metadata": {},
   "outputs": [],
   "source": [
    "#Compute the following expressions for a natural number n chosen by the user: a) Odd "
   ]
  },
  {
   "cell_type": "code",
   "execution_count": null,
   "metadata": {},
   "outputs": [],
   "source": [
    "#1  sum of odd numbers from 0 to n using (i+3)\n",
    "n = int(input(\"enter n: \"))\n",
    "i = 1\n",
    "m = 0\n",
    "if n > 0:\n",
    "    for i in range(0,n):\n",
    "            if(i%2!=0):\n",
    "                m=m+(i+3)\n",
    "print(\"using (i+3),sum of odd numbers up to n =\", m)"
   ]
  },
  {
   "cell_type": "code",
   "execution_count": null,
   "metadata": {},
   "outputs": [],
   "source": [
    "#1b prdt of even numbers from 0 to n using (i+3)\n",
    "n = int(input(\"enter number n: \"))\n",
    "x = 1\n",
    "i = 0\n",
    "if n > 0:\n",
    "    for i in range(0,n):\n",
    "        if(i%2==0):\n",
    "            x = x*(i+3)\n",
    "print(\"using (i+3),the product of even numbers from 0 to n= \",x)"
   ]
  },
  {
   "cell_type": "code",
   "execution_count": null,
   "metadata": {},
   "outputs": [],
   "source": [
    "\n"
   ]
  },
  {
   "cell_type": "code",
   "execution_count": null,
   "metadata": {},
   "outputs": [],
   "source": [
    "#2\n",
    "x=[\"monday\", \"tuesday\", \"wednesday\", \"thursday\", \"friday\",\"saturday\",\"sunday\"]\n",
    "n= int(input(\"enter number \")\n",
    "for n in range(0,7)\n",
    "       if(n>=0 or n<=4)\n",
    "            print( x[len(x)])\n",
    "        \n"
   ]
  },
  {
   "cell_type": "code",
   "execution_count": null,
   "metadata": {},
   "outputs": [],
   "source": [
    "#3Make a program that, given a month number (from 0 to 11), indicates how many days it has (28, 30 or 31), ignoring the leap years."
   ]
  },
  {
   "cell_type": "code",
   "execution_count": null,
   "metadata": {},
   "outputs": [],
   "source": [
    "numberOfmonths=int(input(\" given a month number from 0 to 11 \"))\n",
    "                \n",
    "for j in range(0,11):\n",
    "    if(numberOfmois==0):\n",
    "        print(\"january, 30 days \")\n",
    "        break\n",
    "    elif(numberOfmois==1):\n",
    "        print(\"february, 28 days\")\n",
    "        break\n",
    "    elif(numberOfmois==2):\n",
    "        print(\"march, 31 days  \")\n",
    "        break\n",
    "    elif(numberOfmois==3):\n",
    "        print(\"april, 30 days  \")\n",
    "        break\n",
    "    elif(numberOfmois==4):\n",
    "        print(\"may, 31 days  \")\n",
    "        break\n",
    "    elif(numberOfmois==5):\n",
    "        print(\" june, 30\")\n",
    "        break\n",
    "    elif(numberOfmois==6):\n",
    "         print(\"july, 31 days\")\n",
    "    elif(numberOfmois==7):\n",
    "         print(\"august, 31 days\")\n",
    "    elif(numberOfmois==8):\n",
    "         print(\"september, 30 days\")\n",
    "    elif(numberOfmois==9):\n",
    "         print(\"october, 31 days\")\n",
    "    elif(numberOfmois==10):\n",
    "         print(\"november, 30 days\")\n",
    "    elif(numberOfmois==11):\n",
    "         print(\"december, 31 days\")\n",
    "         break\n",
    "    \n",
    "\n",
    "    \n",
    "        "
   ]
  },
  {
   "cell_type": "code",
   "execution_count": null,
   "metadata": {},
   "outputs": [],
   "source": [
    "#4.a. Write two versions of python code that displays your name 3 times. One version with a \"for loop\" and another version with a \"while loop\"."
   ]
  },
  {
   "cell_type": "code",
   "execution_count": null,
   "metadata": {},
   "outputs": [],
   "source": [
    "#i\n",
    "name=\"Michael\"\n",
    "for a in range(1,4):\n",
    "    print(name)\n",
    "    "
   ]
  },
  {
   "cell_type": "code",
   "execution_count": null,
   "metadata": {},
   "outputs": [],
   "source": [
    "#ii) using while loop "
   ]
  },
  {
   "cell_type": "code",
   "execution_count": null,
   "metadata": {},
   "outputs": [],
   "source": [
    "name=\"Michael\"\n",
    "i=1\n",
    "while(i<4):\n",
    "    print(name)\n",
    "    i=i+1\n",
    "    "
   ]
  },
  {
   "cell_type": "code",
   "execution_count": null,
   "metadata": {},
   "outputs": [],
   "source": [
    "#5  Given two numbers a0 and a1, the Fibonacci sequence they generate is constructed from the recursion formula an+1 = an + an−1. Calculate the first 15 terms of a Fibonacci sequence, asking the user the initial values.\n"
   ]
  },
  {
   "cell_type": "code",
   "execution_count": null,
   "metadata": {},
   "outputs": [],
   "source": [
    "a=int(input(\"enter  a0: \"))\n",
    "b=int(input(\"enter a1: \"))\n",
    "print(\"the terms are =: \")\n",
    "i=1\n",
    "while(i<=15):\n",
    "    c=a+b\n",
    "    b=a\n",
    "    a=c\n",
    "    i+=1\n",
    "    print(c)    \n",
    "        "
   ]
  },
  {
   "cell_type": "markdown",
   "metadata": {},
   "source": [
    "#6 Compute the first 30 terms of the sequence defined by  2𝑥𝑛+2−𝑥𝑛+1−6𝑥𝑛=0  sequence, given any two initial values x0 and x1"
   ]
  },
  {
   "cell_type": "code",
   "execution_count": null,
   "metadata": {},
   "outputs": [],
   "source": [
    "x0=1\n",
    "x1=1\n",
    "for a in range(1,30):\n",
    "    x=(x1+(6*x0))/2\n",
    "    x0=x1\n",
    "    x1=x\n",
    "    print(\"X(\",a+1,\")\",\"is :\",x)"
   ]
  },
  {
   "cell_type": "code",
   "execution_count": null,
   "metadata": {},
   "outputs": [],
   "source": [
    "#7\n",
    "a) Write python code to determine whether or not a year is a leap year. Be sure you know what a leap year is. b) Write the code using only logical operators, i.e. no conditional branching.\n",
    "a) Write python code to determine whether or not a year is a leap year. Be sure you know what a leap year is."
   ]
  },
  {
   "cell_type": "code",
   "execution_count": null,
   "metadata": {},
   "outputs": [],
   "source": [
    "def Aleapyear(Year):  \n",
    "  # Checking if the given year is leap year  \n",
    "  if((Year % 400 == 0) or  \n",
    "     (Year % 100 != 0) and  \n",
    "     (Year % 4 == 0)):   \n",
    "    print(\"year is \");  \n",
    " \n",
    "  else:  \n",
    "    print (\"Given Year is not a leap Year\")  \n",
    "# Taking an input year from user  \n",
    "# Printing result  \n",
    "\n",
    "year = int(input(\"Enter a year: \"))\n",
    "\n",
    "if (year % 4) == 0:\n",
    "    print(year,\" is a leap year\".format(year),sep=\"\")\n",
    "else:\n",
    "    print(year,\" is not a leap year\".format(year),sep=\"\")\n",
    "   "
   ]
  },
  {
   "cell_type": "code",
   "execution_count": null,
   "metadata": {},
   "outputs": [],
   "source": [
    "7.b Write the code using only logical operators, i.e. no conditional branching."
   ]
  },
  {
   "cell_type": "code",
   "execution_count": null,
   "metadata": {},
   "outputs": [],
   "source": [
    "year = int(input(\"Enter a year: \"))\n",
    "a=(year % 4)\n",
    "a==0"
   ]
  },
  {
   "cell_type": "code",
   "execution_count": null,
   "metadata": {},
   "outputs": [],
   "source": [
    "8. Write python code that computes the sum of the square of the first n natural numbers. One version with a \"for loop\" and another version with a \"while loop"
   ]
  },
  {
   "cell_type": "code",
   "execution_count": null,
   "metadata": {},
   "outputs": [],
   "source": [
    "# ai. for loop\n",
    "n=int(input(\"enter the number: \"))\n",
    "s=0\n",
    "for i in range(1,n+1):\n",
    "    s=s+(i**2)\n",
    "print(\" the sum of the square of the first n natural numbers: \",s)"
   ]
  },
  {
   "cell_type": "code",
   "execution_count": null,
   "metadata": {},
   "outputs": [],
   "source": [
    "# aii. while loop\n",
    "#Exercice8(a)\n",
    "n=int(input(\"enter number\"))\n",
    "x=0\n",
    "i=0\n",
    "while(i<n+1):\n",
    "    x=i**2+x\n",
    "    i+=1\n",
    "print(x)\n",
    "\n"
   ]
  },
  {
   "cell_type": "code",
   "execution_count": null,
   "metadata": {},
   "outputs": [],
   "source": [
    "b) Write python code that prints, for a natural number M, the smallest natural number n"
   ]
  },
  {
   "cell_type": "code",
   "execution_count": null,
   "metadata": {},
   "outputs": [],
   "source": [
    "# i for loop\n",
    "n=int(input(\"enter the number: \"))\n",
    "m=int(input(\"enter the number: \"))\n",
    "s=0\n",
    "for i in range(1,n+1):\n",
    "    s=s+(i**2)\n",
    "    if(s<=m):\n",
    "        a=s\n",
    "print(\" the smallest natural number n is: \",a)"
   ]
  },
  {
   "cell_type": "code",
   "execution_count": null,
   "metadata": {},
   "outputs": [],
   "source": [
    "# ii. while loop\n"
   ]
  },
  {
   "cell_type": "code",
   "execution_count": null,
   "metadata": {},
   "outputs": [],
   "source": [
    "a) Write python code that prints all the divisors of a given natural number. b) Read an integer number input by the user and calculate its prime factors. This will just be some of its divisors.\n",
    "a) Write python code that prints all the divisors of a given natural number."
   ]
  },
  {
   "cell_type": "code",
   "execution_count": null,
   "metadata": {},
   "outputs": [],
   "source": [
    "#9a.i.\n",
    "n=int(input(\"enter number :\"))\n",
    "if n>0:\n",
    "    for a in range(1,n+1):\n",
    "        if(n%a==0):\n",
    "            print(a,\"divisor \",n)"
   ]
  },
  {
   "cell_type": "code",
   "execution_count": null,
   "metadata": {},
   "outputs": [],
   "source": [
    "#9b. \n",
    "def ifactor(n):\n",
    "    t , j = [], 2\n",
    "    while n > 1:\n",
    "        if (n % j) == 0:\n",
    "            t.append(j)\n",
    "            n //= j\n",
    " \n",
    "        else:\n",
    "            j += 1\n",
    "    return t"
   ]
  },
  {
   "cell_type": "code",
   "execution_count": null,
   "metadata": {},
   "outputs": [],
   "source": [
    "print(ifactor(100))"
   ]
  },
  {
   "cell_type": "code",
   "execution_count": null,
   "metadata": {},
   "outputs": [],
   "source": [
    "#10\n",
    "Read an integer number between n 0 and 9 and print its multiplication table up to N where N is another another natural number read by the program."
   ]
  },
  {
   "cell_type": "code",
   "execution_count": null,
   "metadata": {},
   "outputs": [],
   "source": [
    "x=int(input(\"enter number: \"))\n",
    "max=int(input(\"enter the max number: \"))\n",
    "if(x>=0 and x<=9):\n",
    "    for a in range(1,max+1):\n",
    "        print(x,\"x\",a,\"=\",x*a)\n"
   ]
  },
  {
   "cell_type": "code",
   "execution_count": null,
   "metadata": {},
   "outputs": [],
   "source": [
    "#11.\n",
    "Write a program that prints all the numbers between 0 and 40 that are multiples of 3, 7 or 11."
   ]
  },
  {
   "cell_type": "code",
   "execution_count": null,
   "metadata": {},
   "outputs": [],
   "source": [
    "for a in range(0,41):\n",
    "    if(a%3==0):\n",
    "        print(\"multiple of 3= \", a)\n",
    "    if(a%7==0):\n",
    "        print(\"multiple of 7= \", a)\n",
    "    if(a%11==0):\n",
    "        print(\"multiple of 11= \",a)"
   ]
  },
  {
   "cell_type": "code",
   "execution_count": null,
   "metadata": {},
   "outputs": [],
   "source": [
    "#12\n",
    "r = float(input(\"enter number :\"))\n",
    "print(1+int(r-1))"
   ]
  },
  {
   "cell_type": "code",
   "execution_count": null,
   "metadata": {},
   "outputs": [],
   "source": [
    "#13\n",
    "\n",
    "def cart():\n",
    "    x = float(input(\"Dpoint :\"))\n",
    "    y = float(input(\"Dpoint :\"))\n",
    "    if x > 0 and y > 0:\n",
    "        print(\" coordinate\",\"(\",x,\",\",y,\")\",\"first quadrant\")\n",
    "    elif x < 0 and y > 0:\n",
    "        print(\" coordonnées\",\"(\",x,\",\",y,\")\",\"second quadrant\")\n",
    "    elif x < 0 and y < 0:\n",
    "        print(\"coordonnées\",\"(\",x,\",\",y,\")\",\"third quadrant\")\n",
    "    elif x > 0 and y < 0:\n",
    "        print(\"coordonnées\",\"(\",x,\",\",y,\")\",\"forth quadrant\")\n",
    "    else:\n",
    "        print(\"the point is at the origin\")\n",
    "              \n",
    "\n",
    "cart()"
   ]
  },
  {
   "cell_type": "code",
   "execution_count": 8,
   "metadata": {},
   "outputs": [],
   "source": [
    "#14\n",
    "def numb():\n",
    "         while  x <0 or x > 9:\n",
    "            x = int(input(\"enter an inter 0 - 9 :\"))\n",
    "            max = int(input(\"enter an inter 0 - 255:\"))\n",
    "            while max < 0 or max > 255:\n",
    "                max = int(input(\"enter an inter 0 - 255 :\"))\n",
    "                S = []\n",
    "                for i in range(max):\n",
    "                    if i%x==0:\n",
    "                        S.append(i)\n",
    "                print(S)\n",
    "                numb()"
   ]
  },
  {
   "cell_type": "code",
   "execution_count": null,
   "metadata": {},
   "outputs": [],
   "source": []
  }
 ],
 "metadata": {
  "kernelspec": {
   "display_name": "Python 3",
   "language": "python",
   "name": "python3"
  },
  "language_info": {
   "codemirror_mode": {
    "name": "ipython",
    "version": 3
   },
   "file_extension": ".py",
   "mimetype": "text/x-python",
   "name": "python",
   "nbconvert_exporter": "python",
   "pygments_lexer": "ipython3",
   "version": "3.8.8"
  }
 },
 "nbformat": 4,
 "nbformat_minor": 4
}
