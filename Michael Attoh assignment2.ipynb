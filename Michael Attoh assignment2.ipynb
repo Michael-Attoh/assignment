{
 "cells": [
  {
   "cell_type": "code",
   "execution_count": null,
   "id": "2d2d9f4f",
   "metadata": {},
   "outputs": [],
   "source": [
    "#Exercice1\n",
    "\n",
    "from math import sqrt \n",
    "from math import sin  \n",
    "def calculation():\n",
    "    x = int(input(\"enter x :\"))\n",
    "    y = int(input(\"enter y :\"))\n",
    "    r = x**2+y\n",
    "    v = sqrt(r)\n",
    "    d = 1/x+2*sin(y)\n",
    "    c = v/d\n",
    "    return c\n",
    "\n",
    "calculation()"
   ]
  },
  {
   "cell_type": "code",
   "execution_count": null,
   "id": "b778f203",
   "metadata": {},
   "outputs": [],
   "source": [
    "#Exercice2\n",
    "\n",
    "def py():\n",
    "    b = int(input(\"enter b\"))\n",
    "    n = int(input (\"enter n\"))\n",
    "    d = b\n",
    "    for i in range(n-1):\n",
    "        b*=d\n",
    "    print(b)\n",
    "py()"
   ]
  },
  {
   "cell_type": "code",
   "execution_count": null,
   "id": "092f6949",
   "metadata": {},
   "outputs": [],
   "source": [
    "#Exercice3(a)\n",
    "from statistics import mean\n",
    "from statistics import geometric_mean\n",
    "def amgm():\n",
    "    a = int(input(\"first value\"))\n",
    "    b = int(input(\"second value\"))\n",
    "    m_a=[a,b]\n",
    "    A = mean(m_a)\n",
    "    g = geometric_mean(m_a)\n",
    "    print(\"arithmetric mean :\",A)\n",
    "    print(\"geometric mean :\", g)\n",
    "amgm()\n"
   ]
  },
  {
   "cell_type": "code",
   "execution_count": null,
   "id": "597eb385",
   "metadata": {},
   "outputs": [],
   "source": [
    "#Exercice3(b)\n",
    "def celcius_to_fahrenheit():\n",
    "    c = float(input(\"temperature in celsius\"))\n",
    "    F = 1.8*c +32 \n",
    "    print(c,\"=\",F, \"degree fahrenheit\")\n",
    "def fahrenheit_to_celcius():\n",
    "    f = float(input(\"temperature in fahrenheit\"))\n",
    "    C = (f-32)/1.8\n",
    "    print(f, \"=\", C,\"degree celsius\") \n",
    "celcius_to_fahrenheit()\n",
    "fahrenheit_to_celcius()"
   ]
  },
  {
   "cell_type": "code",
   "execution_count": null,
   "id": "8ec73f32",
   "metadata": {},
   "outputs": [],
   "source": [
    "#Exercice(c)\n",
    "from math import pi\n",
    "def degrees_to_radians():\n",
    "    c = float(input(\"degree of angle\"))\n",
    "    R =  (180*c)/pi\n",
    "    print(c,\"=\",R, \"radian\")\n",
    "def radians_to_degrees():\n",
    "    r = float(input(\"degree of radian\"))\n",
    "    C = (r*pi)/180\n",
    "    print(r, \"=\", C,\"degre \")\n",
    "degrees_to_radians()\n",
    "radians_to_degrees()"
   ]
  },
  {
   "cell_type": "code",
   "execution_count": null,
   "id": "a0d4d8c4",
   "metadata": {},
   "outputs": [],
   "source": [
    "#Exercice(d)\n",
    "from math import pi\n",
    "def circle():\n",
    "    r = float(input('radius :'))\n",
    "    circumference = 2*pi*r\n",
    "    area = pi*r**2\n",
    "    print('the circumference of circle is :',circumference)\n",
    "    print('the area of circle is :',area)\n",
    "circle()"
   ]
  },
  {
   "cell_type": "code",
   "execution_count": null,
   "id": "5f0925e5",
   "metadata": {},
   "outputs": [],
   "source": [
    "#Exercice4(a)\n",
    "from statistics import mean\n",
    "from statistics import geometric_mean\n",
    "def mike():\n",
    "    a = int(input(\"first value\"))\n",
    "    b = int(input(\"second value\"))\n",
    "    m_a=[a,b]\n",
    "    A = mean(m_a)\n",
    "    g = geometric_mean(m_a)\n",
    "    print(\"arithmetric mean :\",A)\n",
    "    print(\"geometric mean :\", g)\n",
    "mike()\n"
   ]
  },
  {
   "cell_type": "code",
   "execution_count": null,
   "id": "2cd026b1",
   "metadata": {},
   "outputs": [],
   "source": [
    "#Exercice4(b)\n",
    "from math import sqrt\n",
    "def distance_a_b():\n",
    "    x1 = int(input(\"point a :\"))\n",
    "    x2 = int(input(\"point b :\"))\n",
    "    x3 = int(input(\"point c :\"))\n",
    "    y1 = int(input(\"point a :\"))\n",
    "    y2 = int(input(\"point b :\"))\n",
    "    y3 = int(input(\"point c :\"))\n",
    "    ab = (x1 - x2)**2 +(y1-y2)**2\n",
    "    bc = (x2 - x3)**2 + (y2 - y3)**2\n",
    "    ac = (x1 - x3)**2 + (y1 - y3)**2 \n",
    "    Da = round(sqrt(ab),2)\n",
    "    Db = round(sqrt(bc),2)\n",
    "    Dc = round(sqrt(ac),2) \n",
    "    print(\"distance between a and b :\",Da)\n",
    "    print(\"distance between a and b :\",Db)\n",
    "    print(\"distance between a and b :\",Dc)\n",
    "    P = Da + Db + Dc\n",
    "    p = P/2\n",
    "    a = p*(p-Da)*(p-Db)*(p-Dc)\n",
    "    A = round(sqrt(a),2)\n",
    "    print(\"perimeter :\",P,\"metre\")\n",
    "    print(\"area :\",A)\n",
    "distance_a_b()          \n",
    "\n"
   ]
  },
  {
   "cell_type": "code",
   "execution_count": null,
   "id": "ffa5c600",
   "metadata": {},
   "outputs": [],
   "source": [
    "#Exercice5\n",
    "def equation():\n",
    "        while 1: \n",
    "                lettre = input (\" enter q to exit : \")\n",
    "                if lettre == \"q\":\n",
    "                    print (\"see ya \")\n",
    "                    break\n",
    "                else:\n",
    "                    n = int(input(\" n:\")) \n",
    "                    for i in range(1,n):\n",
    "                        n *= i\n",
    "                    print(n)\n",
    "                    print(\"quadratic Equation \")\n",
    "                    a = float(input(\" a :\"))\n",
    "                    b = float(input(\" b :\"))\n",
    "                    c = float(input(\" c :\"))\n",
    "                    D = b**2 -4*a*c\n",
    "                    if D < 0:\n",
    "                        print(\"no solutions\")\n",
    "                    elif D == 0:\n",
    "                        X0 = -b/(2*a)\n",
    "                        print(\"repeated solution : x =\", X0)\n",
    "                    else:\n",
    "                        d = sqrt(D)\n",
    "                        X1 = (-b-d)/2*a\n",
    "                        X2 = (-b+d)/2*a\n",
    "                        print(\"distinct solutions: X1=\",X1,\"et X2 =\",X2)\n",
    "equation()\n"
   ]
  },
  {
   "cell_type": "code",
   "execution_count": 5,
   "id": "3c54ea0f",
   "metadata": {},
   "outputs": [
    {
     "name": "stdout",
     "output_type": "stream",
     "text": [
      "real number :4\n",
      "exponent :2\n",
      "4 power 2 is 16\n"
     ]
    }
   ],
   "source": [
    "#Exercice6\n",
    "def power():\n",
    "    x = int(input(\"real number :\"))\n",
    "    n = int(input(\"exponent :\"))\n",
    "    b = x\n",
    "    for i in range(n-1):\n",
    "        b*=x\n",
    "    print(x,\"power\",n,\"is\",b)\n",
    "power()"
   ]
  },
  {
   "cell_type": "code",
   "execution_count": 2,
   "id": "a6274ce1",
   "metadata": {},
   "outputs": [
    {
     "name": "stdout",
     "output_type": "stream",
     "text": [
      "x2\n",
      "y3\n",
      "100\n",
      "[2, 3, 5, 8, 13, 21, 34, 55, 89, 144, 233, 377, 610, 987, 1597, 2584, 4181, 6765, 10946, 17711, 28657, 46368, 75025, 121393, 196418, 317811, 514229, 832040, 1346269, 2178309, 3524578, 5702887, 9227465, 14930352, 24157817, 39088169, 63245986, 102334155, 165580141, 267914296, 433494437, 701408733, 1134903170, 1836311903, 2971215073, 4807526976, 7778742049, 12586269025, 20365011074, 32951280099, 53316291173, 86267571272, 139583862445, 225851433717, 365435296162, 591286729879, 956722026041, 1548008755920, 2504730781961, 4052739537881, 6557470319842, 10610209857723, 17167680177565, 27777890035288, 44945570212853, 72723460248141, 117669030460994, 190392490709135, 308061521170129, 498454011879264, 806515533049393, 1304969544928657, 2111485077978050, 3416454622906707, 5527939700884757, 8944394323791464, 14472334024676221, 23416728348467685, 37889062373143906, 61305790721611591, 99194853094755497, 160500643816367088, 259695496911122585, 420196140727489673, 679891637638612258, 1100087778366101931, 1779979416004714189, 2880067194370816120, 4660046610375530309, 7540113804746346429, 12200160415121876738, 19740274219868223167, 31940434634990099905, 51680708854858323072, 83621143489848422977, 135301852344706746049, 218922995834555169026, 354224848179261915075, 573147844013817084101, 927372692193078999176]\n"
     ]
    }
   ],
   "source": [
    "#Exercice7\n",
    "def Fibo():\n",
    "    S_0 = int(input(\"x\"))\n",
    "    S_1 = int(input(\"y\"))\n",
    "    S_2 = S_0+S_1\n",
    "    S = [S_0,S_1,S_2]\n",
    "    for i in range(100-3):\n",
    "        S_0 = S_1\n",
    "        S_1 = S_2\n",
    "        S_2 = S_0 + S_1\n",
    "        S.append(S_2)\n",
    "    print(len(S))\n",
    "    print(S)\n",
    "Fibo()"
   ]
  },
  {
   "cell_type": "code",
   "execution_count": null,
   "id": "57243166",
   "metadata": {},
   "outputs": [],
   "source": []
  }
 ],
 "metadata": {
  "kernelspec": {
   "display_name": "Python 3",
   "language": "python",
   "name": "python3"
  },
  "language_info": {
   "codemirror_mode": {
    "name": "ipython",
    "version": 3
   },
   "file_extension": ".py",
   "mimetype": "text/x-python",
   "name": "python",
   "nbconvert_exporter": "python",
   "pygments_lexer": "ipython3",
   "version": "3.8.8"
  }
 },
 "nbformat": 4,
 "nbformat_minor": 5
}
